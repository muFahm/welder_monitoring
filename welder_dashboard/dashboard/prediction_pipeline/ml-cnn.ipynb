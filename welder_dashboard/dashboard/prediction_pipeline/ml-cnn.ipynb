{
 "cells": [
  {
   "cell_type": "code",
   "execution_count": 4,
   "id": "26ece4a3",
   "metadata": {},
   "outputs": [
    {
     "data": {
      "text/html": [
       "<div>\n",
       "<style scoped>\n",
       "    .dataframe tbody tr th:only-of-type {\n",
       "        vertical-align: middle;\n",
       "    }\n",
       "\n",
       "    .dataframe tbody tr th {\n",
       "        vertical-align: top;\n",
       "    }\n",
       "\n",
       "    .dataframe thead th {\n",
       "        text-align: right;\n",
       "    }\n",
       "</style>\n",
       "<table border=\"1\" class=\"dataframe\">\n",
       "  <thead>\n",
       "    <tr style=\"text-align: right;\">\n",
       "      <th></th>\n",
       "      <th>epoc (ms)</th>\n",
       "      <th>timestamp (+0700)</th>\n",
       "      <th>elapsed (s)</th>\n",
       "      <th>x-axis (g)</th>\n",
       "      <th>y-axis (g)</th>\n",
       "      <th>z-axis (g)</th>\n",
       "      <th>actid</th>\n",
       "      <th>subid-gradeid</th>\n",
       "      <th>positionid</th>\n",
       "      <th>dicontinuityid</th>\n",
       "    </tr>\n",
       "  </thead>\n",
       "  <tbody>\n",
       "    <tr>\n",
       "      <th>0</th>\n",
       "      <td>1.610000e+12</td>\n",
       "      <td>2021-01-22T13.51.51.072</td>\n",
       "      <td>0.00</td>\n",
       "      <td>0.671</td>\n",
       "      <td>-0.671</td>\n",
       "      <td>0.793</td>\n",
       "      <td>Welding</td>\n",
       "      <td>3</td>\n",
       "      <td>1</td>\n",
       "      <td>1</td>\n",
       "    </tr>\n",
       "    <tr>\n",
       "      <th>1</th>\n",
       "      <td>1.610000e+12</td>\n",
       "      <td>2021-01-22T13.51.51.112</td>\n",
       "      <td>0.04</td>\n",
       "      <td>1.037</td>\n",
       "      <td>-1.402</td>\n",
       "      <td>1.280</td>\n",
       "      <td>Welding</td>\n",
       "      <td>3</td>\n",
       "      <td>1</td>\n",
       "      <td>1</td>\n",
       "    </tr>\n",
       "    <tr>\n",
       "      <th>2</th>\n",
       "      <td>1.610000e+12</td>\n",
       "      <td>2021-01-22T13.51.51.153</td>\n",
       "      <td>0.08</td>\n",
       "      <td>1.463</td>\n",
       "      <td>-0.732</td>\n",
       "      <td>1.402</td>\n",
       "      <td>Welding</td>\n",
       "      <td>3</td>\n",
       "      <td>1</td>\n",
       "      <td>1</td>\n",
       "    </tr>\n",
       "    <tr>\n",
       "      <th>3</th>\n",
       "      <td>1.610000e+12</td>\n",
       "      <td>2021-01-22T13.51.51.192</td>\n",
       "      <td>0.12</td>\n",
       "      <td>0.854</td>\n",
       "      <td>0.061</td>\n",
       "      <td>0.854</td>\n",
       "      <td>Welding</td>\n",
       "      <td>3</td>\n",
       "      <td>1</td>\n",
       "      <td>1</td>\n",
       "    </tr>\n",
       "    <tr>\n",
       "      <th>4</th>\n",
       "      <td>1.610000e+12</td>\n",
       "      <td>2021-01-22T13.51.51.233</td>\n",
       "      <td>0.16</td>\n",
       "      <td>1.220</td>\n",
       "      <td>-0.854</td>\n",
       "      <td>3.171</td>\n",
       "      <td>Welding</td>\n",
       "      <td>3</td>\n",
       "      <td>1</td>\n",
       "      <td>1</td>\n",
       "    </tr>\n",
       "  </tbody>\n",
       "</table>\n",
       "</div>"
      ],
      "text/plain": [
       "     epoc (ms)         timestamp (+0700)  elapsed (s)  x-axis (g)  y-axis (g)  \\\n",
       "0  1.610000e+12  2021-01-22T13.51.51.072         0.00       0.671      -0.671   \n",
       "1  1.610000e+12  2021-01-22T13.51.51.112         0.04       1.037      -1.402   \n",
       "2  1.610000e+12  2021-01-22T13.51.51.153         0.08       1.463      -0.732   \n",
       "3  1.610000e+12  2021-01-22T13.51.51.192         0.12       0.854       0.061   \n",
       "4  1.610000e+12  2021-01-22T13.51.51.233         0.16       1.220      -0.854   \n",
       "\n",
       "   z-axis (g)    actid  subid-gradeid  positionid  dicontinuityid  \n",
       "0       0.793  Welding              3           1               1  \n",
       "1       1.280  Welding              3           1               1  \n",
       "2       1.402  Welding              3           1               1  \n",
       "3       0.854  Welding              3           1               1  \n",
       "4       3.171  Welding              3           1               1  "
      ]
     },
     "execution_count": 4,
     "metadata": {},
     "output_type": "execute_result"
    }
   ],
   "source": [
    "import pandas as pd\n",
    "from pathlib import Path\n",
    "import numpy as np\n",
    "from sklearn.preprocessing import LabelEncoder\n",
    "from sklearn.model_selection import train_test_split\n",
    "from sklearn.metrics import classification_report, f1_score\n",
    "from tensorflow.keras.models import Sequential\n",
    "from tensorflow.keras.layers import Conv1D, MaxPooling1D, Flatten, Dense, Dropout\n",
    "from tensorflow.keras.utils import to_categorical\n",
    "from tensorflow.keras.callbacks import EarlyStopping\n",
    "import joblib\n",
    "import json\n",
    "\n",
    "base_path = Path(\"C:/Users/muhfh/OneDrive/Documents/College/6th Semester/Monitoring_Las/ml\")  # Ganti sesuai path lokalmu\n",
    "acc_path = base_path / \"jok_acc_1g.csv\"\n",
    "gyr_path = base_path / \"jok_gyr_1g.csv\"\n",
    "mag_path = base_path / \"jok_mag_1g.csv\"\n",
    "\n",
    "# 3. Load masing-masing file\n",
    "acc_df = pd.read_csv(acc_path)\n",
    "gyr_df = pd.read_csv(gyr_path)\n",
    "mag_df = pd.read_csv(mag_path)\n",
    "\n",
    "# 4. Tampilkan contoh isi file\n",
    "acc_df.head()"
   ]
  },
  {
   "cell_type": "code",
   "execution_count": 6,
   "id": "1178697e",
   "metadata": {},
   "outputs": [
    {
     "name": "stdout",
     "output_type": "stream",
     "text": [
      "<class 'pandas.core.frame.DataFrame'>\n",
      "RangeIndex: 65182 entries, 0 to 65181\n",
      "Data columns (total 11 columns):\n",
      " #   Column     Non-Null Count  Dtype   \n",
      "---  ------     --------------  -----   \n",
      " 0   timestamp  65182 non-null  object  \n",
      " 1   acc_x      65182 non-null  float64 \n",
      " 2   acc_y      65182 non-null  float64 \n",
      " 3   acc_z      65182 non-null  float64 \n",
      " 4   actid      65182 non-null  category\n",
      " 5   gyr_x      65182 non-null  float64 \n",
      " 6   gyr_y      65182 non-null  float64 \n",
      " 7   gyr_z      65182 non-null  float64 \n",
      " 8   mag_x      65182 non-null  float64 \n",
      " 9   mag_y      65182 non-null  float64 \n",
      " 10  mag_z      65182 non-null  float64 \n",
      "dtypes: category(1), float64(9), object(1)\n",
      "memory usage: 5.0+ MB\n"
     ]
    },
    {
     "data": {
      "text/html": [
       "<div>\n",
       "<style scoped>\n",
       "    .dataframe tbody tr th:only-of-type {\n",
       "        vertical-align: middle;\n",
       "    }\n",
       "\n",
       "    .dataframe tbody tr th {\n",
       "        vertical-align: top;\n",
       "    }\n",
       "\n",
       "    .dataframe thead th {\n",
       "        text-align: right;\n",
       "    }\n",
       "</style>\n",
       "<table border=\"1\" class=\"dataframe\">\n",
       "  <thead>\n",
       "    <tr style=\"text-align: right;\">\n",
       "      <th></th>\n",
       "      <th>timestamp</th>\n",
       "      <th>acc_x</th>\n",
       "      <th>acc_y</th>\n",
       "      <th>acc_z</th>\n",
       "      <th>actid</th>\n",
       "      <th>gyr_x</th>\n",
       "      <th>gyr_y</th>\n",
       "      <th>gyr_z</th>\n",
       "      <th>mag_x</th>\n",
       "      <th>mag_y</th>\n",
       "      <th>mag_z</th>\n",
       "    </tr>\n",
       "  </thead>\n",
       "  <tbody>\n",
       "    <tr>\n",
       "      <th>0</th>\n",
       "      <td>2021-01-22T13.51.51.072</td>\n",
       "      <td>0.671</td>\n",
       "      <td>-0.671</td>\n",
       "      <td>0.793</td>\n",
       "      <td>Welding</td>\n",
       "      <td>0.671</td>\n",
       "      <td>-0.671</td>\n",
       "      <td>0.793</td>\n",
       "      <td>0.000004</td>\n",
       "      <td>0.000010</td>\n",
       "      <td>-3.750000e-07</td>\n",
       "    </tr>\n",
       "    <tr>\n",
       "      <th>1</th>\n",
       "      <td>2021-01-22T13.51.51.112</td>\n",
       "      <td>1.037</td>\n",
       "      <td>-1.402</td>\n",
       "      <td>1.280</td>\n",
       "      <td>Welding</td>\n",
       "      <td>1.037</td>\n",
       "      <td>-1.402</td>\n",
       "      <td>1.280</td>\n",
       "      <td>0.000003</td>\n",
       "      <td>0.000010</td>\n",
       "      <td>3.750000e-07</td>\n",
       "    </tr>\n",
       "    <tr>\n",
       "      <th>2</th>\n",
       "      <td>2021-01-22T13.51.51.153</td>\n",
       "      <td>1.463</td>\n",
       "      <td>-0.732</td>\n",
       "      <td>1.402</td>\n",
       "      <td>Welding</td>\n",
       "      <td>1.463</td>\n",
       "      <td>-0.732</td>\n",
       "      <td>1.402</td>\n",
       "      <td>0.000003</td>\n",
       "      <td>0.000011</td>\n",
       "      <td>-3.750000e-07</td>\n",
       "    </tr>\n",
       "    <tr>\n",
       "      <th>3</th>\n",
       "      <td>2021-01-22T13.51.51.192</td>\n",
       "      <td>0.854</td>\n",
       "      <td>0.061</td>\n",
       "      <td>0.854</td>\n",
       "      <td>Welding</td>\n",
       "      <td>0.854</td>\n",
       "      <td>0.061</td>\n",
       "      <td>0.854</td>\n",
       "      <td>0.000003</td>\n",
       "      <td>0.000010</td>\n",
       "      <td>-1.125000e-06</td>\n",
       "    </tr>\n",
       "    <tr>\n",
       "      <th>4</th>\n",
       "      <td>2021-01-22T13.51.51.233</td>\n",
       "      <td>1.220</td>\n",
       "      <td>-0.854</td>\n",
       "      <td>3.171</td>\n",
       "      <td>Welding</td>\n",
       "      <td>1.220</td>\n",
       "      <td>-0.854</td>\n",
       "      <td>3.171</td>\n",
       "      <td>0.000004</td>\n",
       "      <td>0.000009</td>\n",
       "      <td>-3.750000e-07</td>\n",
       "    </tr>\n",
       "  </tbody>\n",
       "</table>\n",
       "</div>"
      ],
      "text/plain": [
       "                 timestamp  acc_x  acc_y  acc_z    actid  gyr_x  gyr_y  gyr_z  \\\n",
       "0  2021-01-22T13.51.51.072  0.671 -0.671  0.793  Welding  0.671 -0.671  0.793   \n",
       "1  2021-01-22T13.51.51.112  1.037 -1.402  1.280  Welding  1.037 -1.402  1.280   \n",
       "2  2021-01-22T13.51.51.153  1.463 -0.732  1.402  Welding  1.463 -0.732  1.402   \n",
       "3  2021-01-22T13.51.51.192  0.854  0.061  0.854  Welding  0.854  0.061  0.854   \n",
       "4  2021-01-22T13.51.51.233  1.220 -0.854  3.171  Welding  1.220 -0.854  3.171   \n",
       "\n",
       "      mag_x     mag_y         mag_z  \n",
       "0  0.000004  0.000010 -3.750000e-07  \n",
       "1  0.000003  0.000010  3.750000e-07  \n",
       "2  0.000003  0.000011 -3.750000e-07  \n",
       "3  0.000003  0.000010 -1.125000e-06  \n",
       "4  0.000004  0.000009 -3.750000e-07  "
      ]
     },
     "execution_count": 6,
     "metadata": {},
     "output_type": "execute_result"
    }
   ],
   "source": [
    "# Rename kolom axis agar tidak bentrok saat merge\n",
    "acc_df = acc_df.rename(columns={\n",
    "    'timestamp (+0700)': 'timestamp','x-axis (g)': 'acc_x', 'y-axis (g)': 'acc_y', 'z-axis (g)': 'acc_z'\n",
    "})\n",
    "gyr_df = gyr_df.rename(columns={\n",
    "    'timestamp (+0700)': 'timestamp','x-axis (deg/s)': 'gyr_x', 'y-axis (deg/s)': 'gyr_y', 'z-axis (deg/s)': 'gyr_z'\n",
    "})\n",
    "mag_df = mag_df.rename(columns={\n",
    "    'timestamp (+0700)': 'timestamp','x-axis (T)': 'mag_x', 'y-axis (T)': 'mag_y', 'z-axis (T)': 'mag_z'\n",
    "})\n",
    "\n",
    "# Gabungkan data berdasarkan kolom 'timestamp'\n",
    "merged_df = acc_df[['timestamp', 'acc_x', 'acc_y', 'acc_z', 'actid']].merge(\n",
    "    gyr_df[['timestamp', 'gyr_x', 'gyr_y', 'gyr_z']],\n",
    "    on='timestamp'\n",
    ").merge(\n",
    "    mag_df[['timestamp', 'mag_x', 'mag_y', 'mag_z']],\n",
    "    on='timestamp'\n",
    ")\n",
    "\n",
    "# Konversi kolom target menjadi kategori\n",
    "merged_df['actid'] = merged_df['actid'].astype('category')\n",
    "\n",
    "# Lihat ringkasan hasil\n",
    "merged_df.info()\n",
    "merged_df.head()"
   ]
  },
  {
   "cell_type": "code",
   "execution_count": 7,
   "id": "bdfc00ea",
   "metadata": {},
   "outputs": [
    {
     "name": "stdout",
     "output_type": "stream",
     "text": [
      "Bentuk input CNN: (65157, 25, 9), Label: (65157,)\n"
     ]
    }
   ],
   "source": [
    "# 1. Sliding window - bentuk time series untuk CNN input\n",
    "WINDOW_SIZE = 25  # setiap prediksi melihat 25 data sebelumnya\n",
    "\n",
    "def create_windows(data, labels, window_size):\n",
    "    X, y = [], []\n",
    "    for i in range(len(data) - window_size):\n",
    "        X.append(data[i:i+window_size])\n",
    "        y.append(labels[i+window_size])\n",
    "    return np.array(X), np.array(y)\n",
    "\n",
    "# Ambil fitur numerik dan label\n",
    "X_all = merged_df[['acc_x', 'acc_y', 'acc_z', 'gyr_x', 'gyr_y', 'gyr_z', 'mag_x', 'mag_y', 'mag_z']].values\n",
    "y_all = merged_df['actid'].values\n",
    "\n",
    "# Encode label (ke angka)\n",
    "label_encoder = LabelEncoder()\n",
    "y_encoded = label_encoder.fit_transform(y_all)\n",
    "\n",
    "# Buat windowed dataset\n",
    "X_seq, y_seq = create_windows(X_all, y_encoded, WINDOW_SIZE)\n",
    "print(f\"Bentuk input CNN: {X_seq.shape}, Label: {y_seq.shape}\")\n",
    "\n",
    "# One-hot encoding label\n",
    "y_categorical = to_categorical(y_seq)"
   ]
  },
  {
   "cell_type": "code",
   "execution_count": 8,
   "id": "76038e5a",
   "metadata": {},
   "outputs": [],
   "source": [
    "# 2. Bagi data train/test\n",
    "X_train, X_test, y_train, y_test = train_test_split(\n",
    "    X_seq, y_categorical, test_size=0.2, random_state=42, stratify=y_seq\n",
    ")"
   ]
  },
  {
   "cell_type": "code",
   "execution_count": 9,
   "id": "9a6072df",
   "metadata": {},
   "outputs": [
    {
     "name": "stderr",
     "output_type": "stream",
     "text": [
      "c:\\Users\\muhfh\\OneDrive\\Documents\\College\\6th Semester\\Monitoring_Las\\web_app\\app_venv\\Lib\\site-packages\\keras\\src\\layers\\convolutional\\base_conv.py:113: UserWarning: Do not pass an `input_shape`/`input_dim` argument to a layer. When using Sequential models, prefer using an `Input(shape)` object as the first layer in the model instead.\n",
      "  super().__init__(activity_regularizer=activity_regularizer, **kwargs)\n"
     ]
    },
    {
     "data": {
      "text/html": [
       "<pre style=\"white-space:pre;overflow-x:auto;line-height:normal;font-family:Menlo,'DejaVu Sans Mono',consolas,'Courier New',monospace\"><span style=\"font-weight: bold\">Model: \"sequential\"</span>\n",
       "</pre>\n"
      ],
      "text/plain": [
       "\u001b[1mModel: \"sequential\"\u001b[0m\n"
      ]
     },
     "metadata": {},
     "output_type": "display_data"
    },
    {
     "data": {
      "text/html": [
       "<pre style=\"white-space:pre;overflow-x:auto;line-height:normal;font-family:Menlo,'DejaVu Sans Mono',consolas,'Courier New',monospace\">┏━━━━━━━━━━━━━━━━━━━━━━━━━━━━━━━━━┳━━━━━━━━━━━━━━━━━━━━━━━━┳━━━━━━━━━━━━━━━┓\n",
       "┃<span style=\"font-weight: bold\"> Layer (type)                    </span>┃<span style=\"font-weight: bold\"> Output Shape           </span>┃<span style=\"font-weight: bold\">       Param # </span>┃\n",
       "┡━━━━━━━━━━━━━━━━━━━━━━━━━━━━━━━━━╇━━━━━━━━━━━━━━━━━━━━━━━━╇━━━━━━━━━━━━━━━┩\n",
       "│ conv1d (<span style=\"color: #0087ff; text-decoration-color: #0087ff\">Conv1D</span>)                 │ (<span style=\"color: #00d7ff; text-decoration-color: #00d7ff\">None</span>, <span style=\"color: #00af00; text-decoration-color: #00af00\">23</span>, <span style=\"color: #00af00; text-decoration-color: #00af00\">64</span>)         │         <span style=\"color: #00af00; text-decoration-color: #00af00\">1,792</span> │\n",
       "├─────────────────────────────────┼────────────────────────┼───────────────┤\n",
       "│ max_pooling1d (<span style=\"color: #0087ff; text-decoration-color: #0087ff\">MaxPooling1D</span>)    │ (<span style=\"color: #00d7ff; text-decoration-color: #00d7ff\">None</span>, <span style=\"color: #00af00; text-decoration-color: #00af00\">11</span>, <span style=\"color: #00af00; text-decoration-color: #00af00\">64</span>)         │             <span style=\"color: #00af00; text-decoration-color: #00af00\">0</span> │\n",
       "├─────────────────────────────────┼────────────────────────┼───────────────┤\n",
       "│ dropout (<span style=\"color: #0087ff; text-decoration-color: #0087ff\">Dropout</span>)               │ (<span style=\"color: #00d7ff; text-decoration-color: #00d7ff\">None</span>, <span style=\"color: #00af00; text-decoration-color: #00af00\">11</span>, <span style=\"color: #00af00; text-decoration-color: #00af00\">64</span>)         │             <span style=\"color: #00af00; text-decoration-color: #00af00\">0</span> │\n",
       "├─────────────────────────────────┼────────────────────────┼───────────────┤\n",
       "│ conv1d_1 (<span style=\"color: #0087ff; text-decoration-color: #0087ff\">Conv1D</span>)               │ (<span style=\"color: #00d7ff; text-decoration-color: #00d7ff\">None</span>, <span style=\"color: #00af00; text-decoration-color: #00af00\">9</span>, <span style=\"color: #00af00; text-decoration-color: #00af00\">128</span>)         │        <span style=\"color: #00af00; text-decoration-color: #00af00\">24,704</span> │\n",
       "├─────────────────────────────────┼────────────────────────┼───────────────┤\n",
       "│ max_pooling1d_1 (<span style=\"color: #0087ff; text-decoration-color: #0087ff\">MaxPooling1D</span>)  │ (<span style=\"color: #00d7ff; text-decoration-color: #00d7ff\">None</span>, <span style=\"color: #00af00; text-decoration-color: #00af00\">4</span>, <span style=\"color: #00af00; text-decoration-color: #00af00\">128</span>)         │             <span style=\"color: #00af00; text-decoration-color: #00af00\">0</span> │\n",
       "├─────────────────────────────────┼────────────────────────┼───────────────┤\n",
       "│ flatten (<span style=\"color: #0087ff; text-decoration-color: #0087ff\">Flatten</span>)               │ (<span style=\"color: #00d7ff; text-decoration-color: #00d7ff\">None</span>, <span style=\"color: #00af00; text-decoration-color: #00af00\">512</span>)            │             <span style=\"color: #00af00; text-decoration-color: #00af00\">0</span> │\n",
       "├─────────────────────────────────┼────────────────────────┼───────────────┤\n",
       "│ dense (<span style=\"color: #0087ff; text-decoration-color: #0087ff\">Dense</span>)                   │ (<span style=\"color: #00d7ff; text-decoration-color: #00d7ff\">None</span>, <span style=\"color: #00af00; text-decoration-color: #00af00\">64</span>)             │        <span style=\"color: #00af00; text-decoration-color: #00af00\">32,832</span> │\n",
       "├─────────────────────────────────┼────────────────────────┼───────────────┤\n",
       "│ dropout_1 (<span style=\"color: #0087ff; text-decoration-color: #0087ff\">Dropout</span>)             │ (<span style=\"color: #00d7ff; text-decoration-color: #00d7ff\">None</span>, <span style=\"color: #00af00; text-decoration-color: #00af00\">64</span>)             │             <span style=\"color: #00af00; text-decoration-color: #00af00\">0</span> │\n",
       "├─────────────────────────────────┼────────────────────────┼───────────────┤\n",
       "│ dense_1 (<span style=\"color: #0087ff; text-decoration-color: #0087ff\">Dense</span>)                 │ (<span style=\"color: #00d7ff; text-decoration-color: #00d7ff\">None</span>, <span style=\"color: #00af00; text-decoration-color: #00af00\">5</span>)              │           <span style=\"color: #00af00; text-decoration-color: #00af00\">325</span> │\n",
       "└─────────────────────────────────┴────────────────────────┴───────────────┘\n",
       "</pre>\n"
      ],
      "text/plain": [
       "┏━━━━━━━━━━━━━━━━━━━━━━━━━━━━━━━━━┳━━━━━━━━━━━━━━━━━━━━━━━━┳━━━━━━━━━━━━━━━┓\n",
       "┃\u001b[1m \u001b[0m\u001b[1mLayer (type)                   \u001b[0m\u001b[1m \u001b[0m┃\u001b[1m \u001b[0m\u001b[1mOutput Shape          \u001b[0m\u001b[1m \u001b[0m┃\u001b[1m \u001b[0m\u001b[1m      Param #\u001b[0m\u001b[1m \u001b[0m┃\n",
       "┡━━━━━━━━━━━━━━━━━━━━━━━━━━━━━━━━━╇━━━━━━━━━━━━━━━━━━━━━━━━╇━━━━━━━━━━━━━━━┩\n",
       "│ conv1d (\u001b[38;5;33mConv1D\u001b[0m)                 │ (\u001b[38;5;45mNone\u001b[0m, \u001b[38;5;34m23\u001b[0m, \u001b[38;5;34m64\u001b[0m)         │         \u001b[38;5;34m1,792\u001b[0m │\n",
       "├─────────────────────────────────┼────────────────────────┼───────────────┤\n",
       "│ max_pooling1d (\u001b[38;5;33mMaxPooling1D\u001b[0m)    │ (\u001b[38;5;45mNone\u001b[0m, \u001b[38;5;34m11\u001b[0m, \u001b[38;5;34m64\u001b[0m)         │             \u001b[38;5;34m0\u001b[0m │\n",
       "├─────────────────────────────────┼────────────────────────┼───────────────┤\n",
       "│ dropout (\u001b[38;5;33mDropout\u001b[0m)               │ (\u001b[38;5;45mNone\u001b[0m, \u001b[38;5;34m11\u001b[0m, \u001b[38;5;34m64\u001b[0m)         │             \u001b[38;5;34m0\u001b[0m │\n",
       "├─────────────────────────────────┼────────────────────────┼───────────────┤\n",
       "│ conv1d_1 (\u001b[38;5;33mConv1D\u001b[0m)               │ (\u001b[38;5;45mNone\u001b[0m, \u001b[38;5;34m9\u001b[0m, \u001b[38;5;34m128\u001b[0m)         │        \u001b[38;5;34m24,704\u001b[0m │\n",
       "├─────────────────────────────────┼────────────────────────┼───────────────┤\n",
       "│ max_pooling1d_1 (\u001b[38;5;33mMaxPooling1D\u001b[0m)  │ (\u001b[38;5;45mNone\u001b[0m, \u001b[38;5;34m4\u001b[0m, \u001b[38;5;34m128\u001b[0m)         │             \u001b[38;5;34m0\u001b[0m │\n",
       "├─────────────────────────────────┼────────────────────────┼───────────────┤\n",
       "│ flatten (\u001b[38;5;33mFlatten\u001b[0m)               │ (\u001b[38;5;45mNone\u001b[0m, \u001b[38;5;34m512\u001b[0m)            │             \u001b[38;5;34m0\u001b[0m │\n",
       "├─────────────────────────────────┼────────────────────────┼───────────────┤\n",
       "│ dense (\u001b[38;5;33mDense\u001b[0m)                   │ (\u001b[38;5;45mNone\u001b[0m, \u001b[38;5;34m64\u001b[0m)             │        \u001b[38;5;34m32,832\u001b[0m │\n",
       "├─────────────────────────────────┼────────────────────────┼───────────────┤\n",
       "│ dropout_1 (\u001b[38;5;33mDropout\u001b[0m)             │ (\u001b[38;5;45mNone\u001b[0m, \u001b[38;5;34m64\u001b[0m)             │             \u001b[38;5;34m0\u001b[0m │\n",
       "├─────────────────────────────────┼────────────────────────┼───────────────┤\n",
       "│ dense_1 (\u001b[38;5;33mDense\u001b[0m)                 │ (\u001b[38;5;45mNone\u001b[0m, \u001b[38;5;34m5\u001b[0m)              │           \u001b[38;5;34m325\u001b[0m │\n",
       "└─────────────────────────────────┴────────────────────────┴───────────────┘\n"
      ]
     },
     "metadata": {},
     "output_type": "display_data"
    },
    {
     "data": {
      "text/html": [
       "<pre style=\"white-space:pre;overflow-x:auto;line-height:normal;font-family:Menlo,'DejaVu Sans Mono',consolas,'Courier New',monospace\"><span style=\"font-weight: bold\"> Total params: </span><span style=\"color: #00af00; text-decoration-color: #00af00\">59,653</span> (233.02 KB)\n",
       "</pre>\n"
      ],
      "text/plain": [
       "\u001b[1m Total params: \u001b[0m\u001b[38;5;34m59,653\u001b[0m (233.02 KB)\n"
      ]
     },
     "metadata": {},
     "output_type": "display_data"
    },
    {
     "data": {
      "text/html": [
       "<pre style=\"white-space:pre;overflow-x:auto;line-height:normal;font-family:Menlo,'DejaVu Sans Mono',consolas,'Courier New',monospace\"><span style=\"font-weight: bold\"> Trainable params: </span><span style=\"color: #00af00; text-decoration-color: #00af00\">59,653</span> (233.02 KB)\n",
       "</pre>\n"
      ],
      "text/plain": [
       "\u001b[1m Trainable params: \u001b[0m\u001b[38;5;34m59,653\u001b[0m (233.02 KB)\n"
      ]
     },
     "metadata": {},
     "output_type": "display_data"
    },
    {
     "data": {
      "text/html": [
       "<pre style=\"white-space:pre;overflow-x:auto;line-height:normal;font-family:Menlo,'DejaVu Sans Mono',consolas,'Courier New',monospace\"><span style=\"font-weight: bold\"> Non-trainable params: </span><span style=\"color: #00af00; text-decoration-color: #00af00\">0</span> (0.00 B)\n",
       "</pre>\n"
      ],
      "text/plain": [
       "\u001b[1m Non-trainable params: \u001b[0m\u001b[38;5;34m0\u001b[0m (0.00 B)\n"
      ]
     },
     "metadata": {},
     "output_type": "display_data"
    }
   ],
   "source": [
    "# 3. Bangun model CNN 1D\n",
    "model = Sequential([\n",
    "    Conv1D(64, kernel_size=3, activation='relu', input_shape=(WINDOW_SIZE, X_seq.shape[2])),\n",
    "    MaxPooling1D(pool_size=2),\n",
    "    Dropout(0.3),\n",
    "    Conv1D(128, kernel_size=3, activation='relu'),\n",
    "    MaxPooling1D(pool_size=2),\n",
    "    Flatten(),\n",
    "    Dense(64, activation='relu'),\n",
    "    Dropout(0.4),\n",
    "    Dense(y_categorical.shape[1], activation='softmax')\n",
    "])\n",
    "\n",
    "model.compile(loss='categorical_crossentropy', optimizer='adam', metrics=['accuracy'])\n",
    "model.summary()"
   ]
  },
  {
   "cell_type": "code",
   "execution_count": 10,
   "id": "3062eec0",
   "metadata": {},
   "outputs": [
    {
     "name": "stdout",
     "output_type": "stream",
     "text": [
      "Epoch 1/30\n",
      "\u001b[1m652/652\u001b[0m \u001b[32m━━━━━━━━━━━━━━━━━━━━\u001b[0m\u001b[37m\u001b[0m \u001b[1m3s\u001b[0m 3ms/step - accuracy: 0.4904 - loss: 1.9302 - val_accuracy: 0.6740 - val_loss: 0.9231\n",
      "Epoch 2/30\n",
      "\u001b[1m652/652\u001b[0m \u001b[32m━━━━━━━━━━━━━━━━━━━━\u001b[0m\u001b[37m\u001b[0m \u001b[1m2s\u001b[0m 3ms/step - accuracy: 0.6920 - loss: 0.9304 - val_accuracy: 0.6996 - val_loss: 0.8618\n",
      "Epoch 3/30\n",
      "\u001b[1m652/652\u001b[0m \u001b[32m━━━━━━━━━━━━━━━━━━━━\u001b[0m\u001b[37m\u001b[0m \u001b[1m2s\u001b[0m 3ms/step - accuracy: 0.7047 - loss: 0.8739 - val_accuracy: 0.7036 - val_loss: 0.8116\n",
      "Epoch 4/30\n",
      "\u001b[1m652/652\u001b[0m \u001b[32m━━━━━━━━━━━━━━━━━━━━\u001b[0m\u001b[37m\u001b[0m \u001b[1m2s\u001b[0m 3ms/step - accuracy: 0.7061 - loss: 0.8397 - val_accuracy: 0.7075 - val_loss: 0.7957\n",
      "Epoch 5/30\n",
      "\u001b[1m652/652\u001b[0m \u001b[32m━━━━━━━━━━━━━━━━━━━━\u001b[0m\u001b[37m\u001b[0m \u001b[1m2s\u001b[0m 3ms/step - accuracy: 0.7095 - loss: 0.8203 - val_accuracy: 0.7121 - val_loss: 0.7739\n",
      "Epoch 6/30\n",
      "\u001b[1m652/652\u001b[0m \u001b[32m━━━━━━━━━━━━━━━━━━━━\u001b[0m\u001b[37m\u001b[0m \u001b[1m2s\u001b[0m 3ms/step - accuracy: 0.7097 - loss: 0.8081 - val_accuracy: 0.7131 - val_loss: 0.7648\n",
      "Epoch 7/30\n",
      "\u001b[1m652/652\u001b[0m \u001b[32m━━━━━━━━━━━━━━━━━━━━\u001b[0m\u001b[37m\u001b[0m \u001b[1m2s\u001b[0m 3ms/step - accuracy: 0.7128 - loss: 0.7948 - val_accuracy: 0.7119 - val_loss: 0.7574\n",
      "Epoch 8/30\n",
      "\u001b[1m652/652\u001b[0m \u001b[32m━━━━━━━━━━━━━━━━━━━━\u001b[0m\u001b[37m\u001b[0m \u001b[1m2s\u001b[0m 3ms/step - accuracy: 0.7102 - loss: 0.7919 - val_accuracy: 0.7172 - val_loss: 0.7423\n",
      "Epoch 9/30\n",
      "\u001b[1m652/652\u001b[0m \u001b[32m━━━━━━━━━━━━━━━━━━━━\u001b[0m\u001b[37m\u001b[0m \u001b[1m2s\u001b[0m 3ms/step - accuracy: 0.7168 - loss: 0.7691 - val_accuracy: 0.7195 - val_loss: 0.7295\n",
      "Epoch 10/30\n",
      "\u001b[1m652/652\u001b[0m \u001b[32m━━━━━━━━━━━━━━━━━━━━\u001b[0m\u001b[37m\u001b[0m \u001b[1m2s\u001b[0m 3ms/step - accuracy: 0.7179 - loss: 0.7596 - val_accuracy: 0.7180 - val_loss: 0.7029\n",
      "Epoch 11/30\n",
      "\u001b[1m652/652\u001b[0m \u001b[32m━━━━━━━━━━━━━━━━━━━━\u001b[0m\u001b[37m\u001b[0m \u001b[1m2s\u001b[0m 3ms/step - accuracy: 0.7209 - loss: 0.7506 - val_accuracy: 0.7097 - val_loss: 0.7119\n",
      "Epoch 12/30\n",
      "\u001b[1m652/652\u001b[0m \u001b[32m━━━━━━━━━━━━━━━━━━━━\u001b[0m\u001b[37m\u001b[0m \u001b[1m2s\u001b[0m 3ms/step - accuracy: 0.7226 - loss: 0.7267 - val_accuracy: 0.7300 - val_loss: 0.6677\n",
      "Epoch 13/30\n",
      "\u001b[1m652/652\u001b[0m \u001b[32m━━━━━━━━━━━━━━━━━━━━\u001b[0m\u001b[37m\u001b[0m \u001b[1m2s\u001b[0m 3ms/step - accuracy: 0.7261 - loss: 0.7191 - val_accuracy: 0.7320 - val_loss: 0.6714\n",
      "Epoch 14/30\n",
      "\u001b[1m652/652\u001b[0m \u001b[32m━━━━━━━━━━━━━━━━━━━━\u001b[0m\u001b[37m\u001b[0m \u001b[1m2s\u001b[0m 3ms/step - accuracy: 0.7346 - loss: 0.7048 - val_accuracy: 0.7368 - val_loss: 0.6474\n",
      "Epoch 15/30\n",
      "\u001b[1m652/652\u001b[0m \u001b[32m━━━━━━━━━━━━━━━━━━━━\u001b[0m\u001b[37m\u001b[0m \u001b[1m2s\u001b[0m 3ms/step - accuracy: 0.7381 - loss: 0.6861 - val_accuracy: 0.7392 - val_loss: 0.6418\n",
      "Epoch 16/30\n",
      "\u001b[1m652/652\u001b[0m \u001b[32m━━━━━━━━━━━━━━━━━━━━\u001b[0m\u001b[37m\u001b[0m \u001b[1m2s\u001b[0m 3ms/step - accuracy: 0.7480 - loss: 0.6681 - val_accuracy: 0.7653 - val_loss: 0.5997\n",
      "Epoch 17/30\n",
      "\u001b[1m652/652\u001b[0m \u001b[32m━━━━━━━━━━━━━━━━━━━━\u001b[0m\u001b[37m\u001b[0m \u001b[1m2s\u001b[0m 3ms/step - accuracy: 0.7564 - loss: 0.6461 - val_accuracy: 0.7718 - val_loss: 0.5748\n",
      "Epoch 18/30\n",
      "\u001b[1m652/652\u001b[0m \u001b[32m━━━━━━━━━━━━━━━━━━━━\u001b[0m\u001b[37m\u001b[0m \u001b[1m2s\u001b[0m 3ms/step - accuracy: 0.7557 - loss: 0.6359 - val_accuracy: 0.7724 - val_loss: 0.5836\n",
      "Epoch 19/30\n",
      "\u001b[1m652/652\u001b[0m \u001b[32m━━━━━━━━━━━━━━━━━━━━\u001b[0m\u001b[37m\u001b[0m \u001b[1m2s\u001b[0m 3ms/step - accuracy: 0.7631 - loss: 0.6246 - val_accuracy: 0.7662 - val_loss: 0.6130\n",
      "Epoch 20/30\n",
      "\u001b[1m652/652\u001b[0m \u001b[32m━━━━━━━━━━━━━━━━━━━━\u001b[0m\u001b[37m\u001b[0m \u001b[1m2s\u001b[0m 3ms/step - accuracy: 0.7667 - loss: 0.6263 - val_accuracy: 0.7922 - val_loss: 0.5304\n",
      "Epoch 21/30\n",
      "\u001b[1m652/652\u001b[0m \u001b[32m━━━━━━━━━━━━━━━━━━━━\u001b[0m\u001b[37m\u001b[0m \u001b[1m2s\u001b[0m 3ms/step - accuracy: 0.7787 - loss: 0.5910 - val_accuracy: 0.7858 - val_loss: 0.5350\n",
      "Epoch 22/30\n",
      "\u001b[1m652/652\u001b[0m \u001b[32m━━━━━━━━━━━━━━━━━━━━\u001b[0m\u001b[37m\u001b[0m \u001b[1m2s\u001b[0m 3ms/step - accuracy: 0.7761 - loss: 0.5922 - val_accuracy: 0.7948 - val_loss: 0.5226\n",
      "Epoch 23/30\n",
      "\u001b[1m652/652\u001b[0m \u001b[32m━━━━━━━━━━━━━━━━━━━━\u001b[0m\u001b[37m\u001b[0m \u001b[1m2s\u001b[0m 3ms/step - accuracy: 0.7850 - loss: 0.5677 - val_accuracy: 0.7990 - val_loss: 0.5092\n",
      "Epoch 24/30\n",
      "\u001b[1m652/652\u001b[0m \u001b[32m━━━━━━━━━━━━━━━━━━━━\u001b[0m\u001b[37m\u001b[0m \u001b[1m2s\u001b[0m 3ms/step - accuracy: 0.7849 - loss: 0.5599 - val_accuracy: 0.7985 - val_loss: 0.5092\n",
      "Epoch 25/30\n",
      "\u001b[1m652/652\u001b[0m \u001b[32m━━━━━━━━━━━━━━━━━━━━\u001b[0m\u001b[37m\u001b[0m \u001b[1m2s\u001b[0m 3ms/step - accuracy: 0.7874 - loss: 0.5511 - val_accuracy: 0.8066 - val_loss: 0.4798\n",
      "Epoch 26/30\n",
      "\u001b[1m652/652\u001b[0m \u001b[32m━━━━━━━━━━━━━━━━━━━━\u001b[0m\u001b[37m\u001b[0m \u001b[1m2s\u001b[0m 3ms/step - accuracy: 0.7906 - loss: 0.5499 - val_accuracy: 0.8053 - val_loss: 0.4900\n",
      "Epoch 27/30\n",
      "\u001b[1m652/652\u001b[0m \u001b[32m━━━━━━━━━━━━━━━━━━━━\u001b[0m\u001b[37m\u001b[0m \u001b[1m2s\u001b[0m 3ms/step - accuracy: 0.7976 - loss: 0.5322 - val_accuracy: 0.8116 - val_loss: 0.4718\n",
      "Epoch 28/30\n",
      "\u001b[1m652/652\u001b[0m \u001b[32m━━━━━━━━━━━━━━━━━━━━\u001b[0m\u001b[37m\u001b[0m \u001b[1m2s\u001b[0m 3ms/step - accuracy: 0.7936 - loss: 0.5324 - val_accuracy: 0.8105 - val_loss: 0.4783\n",
      "Epoch 29/30\n",
      "\u001b[1m652/652\u001b[0m \u001b[32m━━━━━━━━━━━━━━━━━━━━\u001b[0m\u001b[37m\u001b[0m \u001b[1m2s\u001b[0m 3ms/step - accuracy: 0.7967 - loss: 0.5266 - val_accuracy: 0.8099 - val_loss: 0.4814\n",
      "Epoch 30/30\n",
      "\u001b[1m652/652\u001b[0m \u001b[32m━━━━━━━━━━━━━━━━━━━━\u001b[0m\u001b[37m\u001b[0m \u001b[1m2s\u001b[0m 3ms/step - accuracy: 0.7995 - loss: 0.5161 - val_accuracy: 0.8184 - val_loss: 0.4518\n"
     ]
    }
   ],
   "source": [
    "# 4. Train model\n",
    "early_stop = EarlyStopping(patience=5, restore_best_weights=True)\n",
    "history = model.fit(X_train, y_train, validation_split=0.2,\n",
    "                    epochs=30, batch_size=64, callbacks=[early_stop])\n"
   ]
  },
  {
   "cell_type": "code",
   "execution_count": 11,
   "id": "7a5cdae1",
   "metadata": {},
   "outputs": [
    {
     "name": "stdout",
     "output_type": "stream",
     "text": [
      "\u001b[1m408/408\u001b[0m \u001b[32m━━━━━━━━━━━━━━━━━━━━\u001b[0m\u001b[37m\u001b[0m \u001b[1m1s\u001b[0m 1ms/step\n",
      "Classification Report:\n",
      "\n",
      "               precision    recall  f1-score   support\n",
      "\n",
      "     Grinding       0.86      0.51      0.64      1321\n",
      "       Others       0.74      0.94      0.83      5740\n",
      "  Preparation       0.84      0.24      0.38       877\n",
      "Slag Cleaning       0.84      0.54      0.66      1311\n",
      "      Welding       0.96      0.98      0.97      3783\n",
      "\n",
      "     accuracy                           0.82     13032\n",
      "    macro avg       0.85      0.64      0.69     13032\n",
      " weighted avg       0.83      0.82      0.80     13032\n",
      "\n",
      "F1-score: 0.8016\n"
     ]
    }
   ],
   "source": [
    "# 5. Evaluasi\n",
    "y_pred_proba = model.predict(X_test)\n",
    "y_pred = np.argmax(y_pred_proba, axis=1)\n",
    "y_true = np.argmax(y_test, axis=1)\n",
    "\n",
    "print(\"Classification Report:\\n\")\n",
    "print(classification_report(y_true, y_pred, target_names=label_encoder.classes_))\n",
    "f1 = f1_score(y_true, y_pred, average='weighted')\n",
    "print(f\"F1-score: {f1:.4f}\")"
   ]
  },
  {
   "cell_type": "code",
   "execution_count": 12,
   "id": "c799c2f7",
   "metadata": {},
   "outputs": [
    {
     "name": "stderr",
     "output_type": "stream",
     "text": [
      "WARNING:absl:You are saving your model as an HDF5 file via `model.save()` or `keras.saving.save_model(model)`. This file format is considered legacy. We recommend using instead the native Keras format, e.g. `model.save('my_model.keras')` or `keras.saving.save_model(model, 'my_model.keras')`. \n"
     ]
    },
    {
     "name": "stdout",
     "output_type": "stream",
     "text": [
      "Model dan label mapping disimpan ke: C:\\Users\\muhfh\\OneDrive\\Documents\\College\\6th Semester\\Monitoring_Las\\ml\\cnn1d_welder_model.h5 & C:\\Users\\muhfh\\OneDrive\\Documents\\College\\6th Semester\\Monitoring_Las\\ml\\label_mapping.json\n"
     ]
    }
   ],
   "source": [
    "# 6. Simpan model dan label encoder\n",
    "model_path = base_path / \"cnn1d_welder_model.h5\"\n",
    "model.save(model_path)\n",
    "\n",
    "# Simpan label encoder mapping\n",
    "label_map_path = base_path / \"label_mapping.json\"\n",
    "with open(label_map_path, 'w') as f:\n",
    "    json.dump(dict(zip(map(str, range(len(label_encoder.classes_))), label_encoder.classes_)), f)\n",
    "\n",
    "print(f\"Model dan label mapping disimpan ke: {model_path} & {label_map_path}\")"
   ]
  }
 ],
 "metadata": {
  "kernelspec": {
   "display_name": "app_venv",
   "language": "python",
   "name": "python3"
  },
  "language_info": {
   "codemirror_mode": {
    "name": "ipython",
    "version": 3
   },
   "file_extension": ".py",
   "mimetype": "text/x-python",
   "name": "python",
   "nbconvert_exporter": "python",
   "pygments_lexer": "ipython3",
   "version": "3.11.7"
  }
 },
 "nbformat": 4,
 "nbformat_minor": 5
}
